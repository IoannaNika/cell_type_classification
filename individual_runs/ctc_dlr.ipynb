{
 "cells": [
  {
   "cell_type": "markdown",
   "metadata": {},
   "source": [
    "# Load stored data"
   ]
  },
  {
   "cell_type": "markdown",
   "metadata": {},
   "source": [
    "First, set the names of the pickled files to load:"
   ]
  },
  {
   "cell_type": "code",
   "execution_count": null,
   "metadata": {},
   "outputs": [],
   "source": [
    "cell_names_file_name = \"../data/cell_names\"\n",
    "gene_names_file_name = \"../data/gene_names\"\n",
    "labels_file_name = \"../data/labels\"\n",
    "gene_expr_bin_bitpacked_file_name = \"../data/gene_expr_bin_bitpacked\""
   ]
  },
  {
   "cell_type": "markdown",
   "metadata": {},
   "source": [
    "Then, actually load the data in those files"
   ]
  },
  {
   "cell_type": "code",
   "execution_count": null,
   "metadata": {},
   "outputs": [],
   "source": [
    "from ctc_utils.functions import load_pickled_cells_data\n",
    "\n",
    "(cell_names, gene_names, labels, gene_expr_bin) = load_pickled_cells_data(\n",
    "    cell_names_file_name,\n",
    "    gene_names_file_name,\n",
    "    labels_file_name,\n",
    "    gene_expr_bin_bitpacked_file_name + \".npy\",\n",
    ")"
   ]
  },
  {
   "cell_type": "markdown",
   "metadata": {},
   "source": [
    "# Partition into seperate datasets"
   ]
  },
  {
   "cell_type": "markdown",
   "metadata": {},
   "source": [
    "Define gene expressions per dataset"
   ]
  },
  {
   "cell_type": "code",
   "execution_count": null,
   "metadata": {},
   "outputs": [],
   "source": [
    "from ctc_utils.functions import def_gen_expr_for_datasets, def_labels_for_datasets\n",
    "\n",
    "ge_10xv2, ge_SM2, ge_10xv3, ge_CL, ge_DR, ge_iD, ge_SW, ge_10xv2_2 = def_gen_expr_for_datasets(gene_expr_bin)"
   ]
  },
  {
   "cell_type": "markdown",
   "metadata": {},
   "source": [
    "Define labels per dataset"
   ]
  },
  {
   "cell_type": "code",
   "execution_count": null,
   "metadata": {},
   "outputs": [],
   "source": [
    "lb_10xv2, lb_SM2, lb_10xv3, lb_CL, lb_DR, lb_iD, lb_SW, lb_10xv2_2 = def_labels_for_datasets(labels)"
   ]
  },
  {
   "cell_type": "markdown",
   "metadata": {},
   "source": [
    "# Choose Datasets"
   ]
  },
  {
   "cell_type": "code",
   "execution_count": null,
   "metadata": {},
   "outputs": [],
   "source": [
    "# Define dataset to be used\n",
    "x_dt = ge_SW\n",
    "y_dt = lb_SW\n",
    "\n",
    "# In case you want to use  diffrent set for testing and for training\n",
    "x_dt_test = ge_iD\n",
    "y_dt_test = lb_iD"
   ]
  },
  {
   "cell_type": "markdown",
   "metadata": {},
   "source": [
    "# Apply unsupervised clustering"
   ]
  },
  {
   "cell_type": "code",
   "execution_count": null,
   "metadata": {},
   "outputs": [],
   "source": [
    "import numpy as np\n",
    "from ctc_utils.functions import loopForDLR, unsupervisedClusteringFaiss\n",
    "from sklearn.feature_selection import VarianceThreshold\n",
    "\n",
    "#Feature selection\n",
    "sel = VarianceThreshold(threshold=0.16)\n",
    "x_dt_fs = sel.fit_transform(x_dt)\n",
    "x_dt_test_fs = sel.transform(x_dt_test)\n",
    "\n",
    "# unsupervised clustering using faiss \n",
    "neighbors_index_ps, neighbors_index_ps_test, x_dt_fs, x_dt_test_fs = unsupervisedClusteringFaiss(x_dt_fs, x_dt_test_fs, 8)\n",
    "# calculate DLR for each cell sample for training of the model.\n",
    "dlr_matrix = loopForDLR(neighbors_index_ps, x_dt_fs)\n",
    "# calculate DLR for each cell sample for testing the  model.\n",
    "dlr_matrix_test = loopForDLR(neighbors_index_ps_test, x_dt_fs)\n",
    "\n"
   ]
  },
  {
   "cell_type": "markdown",
   "metadata": {},
   "source": [
    "# Define datasets for training and testing"
   ]
  },
  {
   "cell_type": "code",
   "execution_count": null,
   "metadata": {},
   "outputs": [],
   "source": [
    "from sklearn.model_selection import train_test_split\n",
    "\n",
    "x_train, x_test, y_train, y_test = train_test_split(\n",
    "    dlr_matrix, y_dt, test_size=0.2, random_state=42\n",
    ")"
   ]
  },
  {
   "cell_type": "markdown",
   "metadata": {},
   "source": [
    "# (Optional) Test with different datasets"
   ]
  },
  {
   "cell_type": "markdown",
   "metadata": {},
   "source": [
    "Comment out, if you want to evaluate performance on the selected dataset for training (partitioning)."
   ]
  },
  {
   "cell_type": "code",
   "execution_count": null,
   "metadata": {},
   "outputs": [],
   "source": [
    "x_train = dlr_matrix\n",
    "y_train = y_dt\n",
    "x_test = dlr_matrix_test\n",
    "y_test = y_dt_test"
   ]
  },
  {
   "cell_type": "markdown",
   "metadata": {},
   "source": [
    "# Oversampling"
   ]
  },
  {
   "cell_type": "markdown",
   "metadata": {},
   "source": [
    "(if x_over and y_over are not used when fitting the model, oversampling is not used)."
   ]
  },
  {
   "cell_type": "code",
   "execution_count": null,
   "metadata": {},
   "outputs": [],
   "source": [
    "from imblearn.over_sampling import RandomOverSampler\n",
    "from imblearn.under_sampling import RandomUnderSampler\n",
    "\n",
    "\n",
    "# over = RandomOverSampler(sampling_strategy=0.1)\n",
    "# x_over, y_over = over.fit_resample(x_train, y_train)\n",
    "# under = RandomUnderSampler(sampling_strategy=0.5)\n",
    "# x_over, y_over = under.fit_resample(x_over, y_over)\n"
   ]
  },
  {
   "cell_type": "markdown",
   "metadata": {},
   "source": [
    "# Apply KNN"
   ]
  },
  {
   "cell_type": "code",
   "execution_count": null,
   "metadata": {},
   "outputs": [],
   "source": [
    "from classifiers.kNN import knn\n",
    "from sklearn .metrics import classification_report \n",
    "from sklearn.metrics  import f1_score\n",
    "\n",
    "\n",
    "model, acc = knn(x_train, y_train, x_test,y_test)\n",
    "\n",
    "from sklearn.metrics import plot_confusion_matrix\n",
    "import matplotlib.pyplot as plt\n",
    "\n",
    "#plot confusion matrix\n",
    "plot_confusion_matrix(model, x_test, y_test, xticks_rotation = \"vertical\", normalize = \"true\", values_format = \".2f\")  \n",
    "plt.show()\n",
    "\n",
    "print (classification_report(model.predict(x_test), y_test))\n"
   ]
  },
  {
   "cell_type": "markdown",
   "metadata": {},
   "source": [
    "# Apply Logistic Regression"
   ]
  },
  {
   "cell_type": "code",
   "execution_count": null,
   "metadata": {},
   "outputs": [],
   "source": [
    "from classifiers.LogisticRegression import logreg\n",
    "\n",
    "model, acc = logreg(x_train, y_train, x_test, y_test)\n",
    "\n",
    "#plot confusion matrix\n",
    "plot_confusion_matrix(model, x_test, y_test, xticks_rotation = \"vertical\", normalize = \"true\", values_format = \".2f\")  \n",
    "plt.show()\n",
    "\n",
    "print(model.score(x_test, y_test))\n",
    "print(f1_score(model.predict(x_test), y_test, average= \"weighted\"))\n"
   ]
  },
  {
   "cell_type": "markdown",
   "metadata": {},
   "source": [
    "# Apply Decision Tree Class classifier"
   ]
  },
  {
   "cell_type": "code",
   "execution_count": null,
   "metadata": {},
   "outputs": [],
   "source": [
    "from classifiers.DTC import dtc\n",
    "from sklearn.metrics  import f1_score\n",
    "\n",
    "model, acc = dtc(x_train, y_train, x_test, y_test)\n",
    "\n",
    "#plot confusion matrix\n",
    "plot_confusion_matrix(model, x_test, y_test, xticks_rotation = \"vertical\", normalize = \"true\", values_format = \".2f\")  \n",
    "plt.show()\n",
    "\n",
    "\n",
    "print(model.score(x_test, y_test))\n",
    "print(f1_score(model.predict(x_test), y_test, average= \"weighted\"))\n",
    "\n"
   ]
  },
  {
   "cell_type": "code",
   "execution_count": null,
   "metadata": {},
   "outputs": [],
   "source": [
    "from sklearn import svm\n",
    "from sklearn.decomposition import PCA\n",
    "from sklearn.pipeline import Pipeline\n",
    "from sklearn.decomposition import TruncatedSVD\n",
    "\n",
    "steps = [('svd', TruncatedSVD(n_components=65)), ('m', svm.LinearSVC())]\n",
    "model = Pipeline(steps=steps)\n",
    "\n",
    "model.fit(x_train, y_train)\n",
    "\n",
    "# Print accuracy\n",
    "print(model.score(x_test, y_test))\n",
    "print(f1_score(model.predict(x_test), y_test, average= \"weighted\"))\n",
    "\n",
    "plot_confusion_matrix(model, x_test, y_test, xticks_rotation = \"vertical\", normalize = \"true\", values_format = \".2f\")  \n",
    "plt.show()\n"
   ]
  },
  {
   "cell_type": "code",
   "execution_count": null,
   "metadata": {},
   "outputs": [],
   "source": [
    "from sklearn.neural_network import MLPClassifier\n",
    "\n",
    "\n",
    "steps = [('svd',PCA(n_components=65)), ('m', MLPClassifier(solver='lbfgs', alpha=1e-5, hidden_layer_sizes=(5, 2), random_state=1))]\n",
    "model = Pipeline(steps=steps)\n",
    "\n",
    "model.fit(x_train, y_train)\n",
    "\n",
    "# Print accuracy\n",
    "print(model.score(x_test, y_test))\n",
    "print(f1_score(model.predict(x_test), y_test, average= \"weighted\"))\n",
    "\n",
    "plot_confusion_matrix(model, x_test, y_test, xticks_rotation = \"vertical\", normalize = \"true\", values_format = \".2f\")  \n",
    "plt.show()"
   ]
  }
 ],
 "metadata": {
  "interpreter": {
   "hash": "aee8b7b246df8f9039afb4144a1f6fd8d2ca17a180786b69acc140d282b71a49"
  },
  "kernelspec": {
   "display_name": "Python 3.9.6 64-bit",
   "name": "python3"
  },
  "language_info": {
   "codemirror_mode": {
    "name": "ipython",
    "version": 3
   },
   "file_extension": ".py",
   "mimetype": "text/x-python",
   "name": "python",
   "nbconvert_exporter": "python",
   "pygments_lexer": "ipython3",
   "version": "3.9.7"
  },
  "orig_nbformat": 4
 },
 "nbformat": 4,
 "nbformat_minor": 2
}

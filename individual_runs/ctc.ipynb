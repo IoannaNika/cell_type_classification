{
 "cells": [
  {
   "cell_type": "markdown",
   "metadata": {},
   "source": [
    "# Load the stored data\n",
    "\n",
    "In this section, we will load the stored pickled data into memory."
   ]
  },
  {
   "cell_type": "markdown",
   "metadata": {},
   "source": [
    "First, set the names of the pickled files to load:"
   ]
  },
  {
   "cell_type": "code",
   "execution_count": null,
   "metadata": {},
   "outputs": [],
   "source": [
    "cell_names_file_name = \"../data/cell_names\"\n",
    "gene_names_file_name = \"../data/gene_names\"\n",
    "labels_file_name = \"../data/labels\"\n",
    "gene_expr_bin_bitpacked_file_name = \"../data/gene_expr_bin_bitpacked\""
   ]
  },
  {
   "cell_type": "markdown",
   "metadata": {},
   "source": [
    "Then, actually load the data in those files"
   ]
  },
  {
   "cell_type": "code",
   "execution_count": null,
   "metadata": {},
   "outputs": [],
   "source": [
    "from ctc_utils.functions import load_pickled_cells_data\n",
    "\n",
    "(cell_names, gene_names, labels, gene_expr_bin) = load_pickled_cells_data(\n",
    "    cell_names_file_name,\n",
    "    gene_names_file_name,\n",
    "    labels_file_name,\n",
    "    gene_expr_bin_bitpacked_file_name + \".npy\",\n",
    ")\n"
   ]
  },
  {
   "cell_type": "markdown",
   "metadata": {},
   "source": [
    "# Partition into seperate datasets"
   ]
  },
  {
   "cell_type": "markdown",
   "metadata": {},
   "source": [
    "Define gene expressions per dataset"
   ]
  },
  {
   "cell_type": "code",
   "execution_count": null,
   "metadata": {},
   "outputs": [],
   "source": [
    "\n",
    "ge_10xv2 = gene_expr_bin[0:6443]\n",
    "ge_SM2 = gene_expr_bin[6444:6696]\n",
    "ge_10xv3 = gene_expr_bin[6697:9918]\n",
    "ge_CL = gene_expr_bin[9919:10171]\n",
    "ge_DR = gene_expr_bin[10172:13393]\n",
    "ge_iD = gene_expr_bin[13394:16615]\n",
    "ge_SW = gene_expr_bin[16616:19791]\n",
    "ge_10xv2_2 = gene_expr_bin[19792:23153]"
   ]
  },
  {
   "cell_type": "markdown",
   "metadata": {},
   "source": [
    "Define labels per dataset"
   ]
  },
  {
   "cell_type": "code",
   "execution_count": null,
   "metadata": {},
   "outputs": [],
   "source": [
    "lb_10xv2 = labels[0:6443]\n",
    "lb_SM2 = labels[6444:6696]\n",
    "lb_10xv3 = labels[6697:9918]\n",
    "lb_CL = labels[9919:10171]\n",
    "lb_DR = labels[10172:13393]\n",
    "lb_iD = labels[13394:16615]\n",
    "lb_SW = labels[16616:19791]\n",
    "lb_10xv2_2 = labels[19792:23153]"
   ]
  },
  {
   "cell_type": "markdown",
   "metadata": {},
   "source": [
    "# Choose datasets"
   ]
  },
  {
   "cell_type": "code",
   "execution_count": null,
   "metadata": {},
   "outputs": [],
   "source": [
    "import numpy as np\n",
    "\n",
    "# Define dataset to be used\n",
    "x = ge_SW\n",
    "y = lb_SW\n",
    "# Only useful if test set will be different than training set.\n",
    "x_dt_test = ge_iD\n",
    "y_dt_test = lb_iD"
   ]
  },
  {
   "cell_type": "markdown",
   "metadata": {},
   "source": [
    "# Balance datasets (Step 1)"
   ]
  },
  {
   "cell_type": "markdown",
   "metadata": {},
   "source": [
    "Find amount of occurances for the majority class\n",
    "\n",
    "(Comment out if you dont wanna use it)"
   ]
  },
  {
   "cell_type": "code",
   "execution_count": null,
   "metadata": {},
   "outputs": [],
   "source": [
    "from collections import  Counter\n",
    "import numpy as np\n",
    "# d = Counter(y)\n",
    "# print(d)\n",
    "# max_occurances = max(d, key=d. get)\n",
    "# max_num = d.get(max_occurances)\n",
    "# half = int(max_num/2)\n"
   ]
  },
  {
   "cell_type": "markdown",
   "metadata": {},
   "source": [
    "Prune all classes so that the maximum amount of their occurances matches the required threshold (ahlf the amount of occurances of the majority class).\n",
    "You can specify your own!"
   ]
  },
  {
   "cell_type": "code",
   "execution_count": null,
   "metadata": {},
   "outputs": [],
   "source": [
    "from collections import  Counter\n",
    "import numpy as np\n",
    "from ctc_utils.functions import prune_training_set\n",
    "\n",
    "# x, y = prune_training_set(x, y, half)\n",
    "\n",
    "\n"
   ]
  },
  {
   "cell_type": "markdown",
   "metadata": {},
   "source": [
    "# Feature selection"
   ]
  },
  {
   "cell_type": "code",
   "execution_count": null,
   "metadata": {},
   "outputs": [],
   "source": [
    "from sklearn.feature_selection import VarianceThreshold\n",
    "\n",
    "sel = VarianceThreshold(threshold=0.16)\n",
    "x = sel.fit_transform(x)\n",
    "x_dt_test = sel.transform(x_dt_test)\n"
   ]
  },
  {
   "cell_type": "markdown",
   "metadata": {},
   "source": [
    "# Data Overview"
   ]
  },
  {
   "cell_type": "markdown",
   "metadata": {},
   "source": [
    "Plot cell type number of occurances in each dataset."
   ]
  },
  {
   "cell_type": "code",
   "execution_count": null,
   "metadata": {},
   "outputs": [],
   "source": [
    "from ctc_utils.functions import plot_cell_type_counts\n",
    "from collections import Counter\n",
    "\n",
    "Dataset_Names = [\"10xv2\",\"SM2\",\"10xv3\",\"CL\",\"DR\",\"iD\",\"SW\",\"10xv2_2\"]\n",
    "Dataset_Labels = [lb_10xv2, lb_SM2, lb_10xv3, lb_CL,lb_DR, lb_iD,lb_SW,lb_10xv2_2]\n",
    "print(gene_expr_bin.shape)\n",
    "for indx in range(len(Dataset_Names)):\n",
    "    print(\"Dataset: \" + Dataset_Names[indx], len(Dataset_Labels[indx]) )\n",
    "    print(Counter(Dataset_Labels[indx]))\n",
    "    plot_cell_type_counts(Dataset_Labels[indx])\n",
    "    print(\"\\n\")\n",
    "\n",
    "print(\"Training Dataset\")\n",
    "plot_cell_type_counts(y)\n",
    "\n",
    "print(\"Test Dataset\")\n",
    "plot_cell_type_counts(y_dt_test)"
   ]
  },
  {
   "cell_type": "markdown",
   "metadata": {},
   "source": [
    "# Divide the test and training data\n",
    "\n",
    "From the loaded data, divide it into training and test data"
   ]
  },
  {
   "cell_type": "code",
   "execution_count": null,
   "metadata": {},
   "outputs": [],
   "source": [
    "import pandas as pd\n",
    "\n",
    "from sklearn.model_selection import train_test_split\n",
    "\n",
    "x_train, x_test, y_train, y_test = train_test_split(\n",
    "    x, y, test_size=0.3, random_state=42\n",
    ")"
   ]
  },
  {
   "cell_type": "markdown",
   "metadata": {},
   "source": [
    "# (Optional) Test with different datasets"
   ]
  },
  {
   "cell_type": "markdown",
   "metadata": {},
   "source": [
    "Comment out, if you want to evaluate performance only using the reference set (partitioning)."
   ]
  },
  {
   "cell_type": "code",
   "execution_count": null,
   "metadata": {},
   "outputs": [],
   "source": [
    "x_train = x\n",
    "y_train = y\n",
    "x_test = x_dt_test\n",
    "y_test = y_dt_test"
   ]
  },
  {
   "cell_type": "markdown",
   "metadata": {},
   "source": [
    "# Apply oversampling (Balance dataset step 2)\n",
    "\n",
    "!! Can be used also to Balance the reference set (Balance dataset step 2) !!\n",
    "\n",
    "(if x_over and y_over are not used when fitting the model, oversampling is not used)."
   ]
  },
  {
   "cell_type": "code",
   "execution_count": null,
   "metadata": {},
   "outputs": [],
   "source": [
    "from imblearn.over_sampling import RandomOverSampler, SMOTE, ADASYN,  SMOTEN\n",
    "from ctc_utils.functions import plot_cell_type_counts \n",
    "\n",
    "over_sampling = RandomOverSampler(sampling_strategy = \"not majority\")\n",
    " # fit and apply the transform\n",
    "x_over, y_over = over_sampling.fit_resample(x_train, y_train)\n",
    "\n",
    "plot_cell_type_counts(y_over)\n"
   ]
  },
  {
   "cell_type": "markdown",
   "metadata": {},
   "source": [
    "# Set model name\n",
    "(Example)\n",
    "Define the name of the model to be loaded or to be saved.\n",
    "(In case you want to save any of the models)"
   ]
  },
  {
   "cell_type": "code",
   "execution_count": null,
   "metadata": {},
   "outputs": [],
   "source": [
    "model_file_name_knn = \"../models/knn\"\n",
    "model_file_name_linreg = \"../models/linreg\"\n"
   ]
  },
  {
   "cell_type": "markdown",
   "metadata": {},
   "source": [
    "# Apply KNN"
   ]
  },
  {
   "cell_type": "code",
   "execution_count": null,
   "metadata": {},
   "outputs": [],
   "source": [
    "def dinstanceMetric(a,b):\n",
    "    # to use add this:  metric='pyfunc', metric_params = {\"func\" :dinstanceMetric}\n",
    "    return np.var(np.subtract(a,b))/(np.var(a)+ np.var(b))\n",
    "\n",
    "from sklearn import neighbors\n",
    "from sklearn import neighbors\n",
    "from sklearn.pipeline import Pipeline\n",
    "from sklearn.decomposition import TruncatedSVD\n",
    "from sklearn.metrics  import f1_score\n",
    "\n",
    "n = 16\n",
    "\n",
    "steps = [('tsvd', TruncatedSVD(n_components = 11)), ('knn',neighbors.KNeighborsClassifier(n,n_jobs=-1))]\n",
    "model = Pipeline(steps=steps, verbose=1)\n",
    "\n",
    "#apply knn\n",
    "model.fit(x_train,y_train)\n",
    "\n",
    "y_pred = model.predict(x_test) \n",
    "#Print f1\n",
    "print(f1_score(y_pred, y_test, average= \"weighted\"))\n",
    "\n",
    "from sklearn.metrics import plot_confusion_matrix\n",
    "import matplotlib.pyplot as plt\n",
    "\n",
    "plot_confusion_matrix(model, x_test, y_test, xticks_rotation = \"vertical\", normalize = \"true\", values_format = \".2f\")  \n",
    "plt.show()\n",
    "\n",
    "import pickle\n",
    "\n",
    "# Save the model example\n",
    "pickle.dump(model, open(model_file_name_knn, \"wb\"))"
   ]
  },
  {
   "cell_type": "markdown",
   "metadata": {},
   "source": [
    "# Apply Logistic Regression"
   ]
  },
  {
   "cell_type": "code",
   "execution_count": null,
   "metadata": {},
   "outputs": [],
   "source": [
    "from sklearn.linear_model import LogisticRegression\n",
    "from sklearn.decomposition import FactorAnalysis\n",
    "from sklearn.metrics  import f1_score\n",
    "\n",
    "\n",
    "\n",
    "\n",
    "steps = [('tsvd', TruncatedSVD(n_components=55)), ('m', LogisticRegression(n_jobs=-1))]\n",
    "model = Pipeline(steps=steps)\n",
    "model.fit(x_train,y_train)\n",
    "\n",
    "#plot confusion matrix\n",
    "plot_confusion_matrix(model, x_test, y_test, xticks_rotation = \"vertical\", normalize = \"true\", values_format = \".2f\")  \n",
    "plt.show()\n",
    "\n",
    "\n",
    "#Print f1\n",
    "print(f1_score(model.predict(x_test), y_test, average= \"weighted\"))\n",
    "\n",
    "import pickle\n",
    "\n",
    "# Save the model example\n",
    "pickle.dump(model, open(model_file_name_linreg, \"wb\"))"
   ]
  },
  {
   "cell_type": "markdown",
   "metadata": {},
   "source": [
    "# Apply Decision Tree Class classifier"
   ]
  },
  {
   "cell_type": "code",
   "execution_count": null,
   "metadata": {},
   "outputs": [],
   "source": [
    "from sklearn.tree import DecisionTreeClassifier\n",
    "\n",
    "steps = [('svd', FactorAnalysis(n_components=55)), ('m', DecisionTreeClassifier(criterion = \"entropy\"))]\n",
    "model = Pipeline(steps=steps)\n",
    "\n",
    "model.fit(x_train,y_train)\n",
    "\n",
    "# Print f1\n",
    "print(f1_score(model.predict(x_test), y_test, average = \"weighted\"))\n",
    "\n",
    "plot_confusion_matrix(model, x_test, y_test, xticks_rotation = \"vertical\", normalize = \"true\", values_format = \".2f\")  \n",
    "plt.show()\n"
   ]
  },
  {
   "cell_type": "markdown",
   "metadata": {},
   "source": [
    "# Apply Linear SVC"
   ]
  },
  {
   "cell_type": "code",
   "execution_count": null,
   "metadata": {},
   "outputs": [],
   "source": [
    "from sklearn import svm\n",
    "from sklearn.decomposition import PCA\n",
    "\n",
    "steps = [('fa', FactorAnalysis(n_components=65)), ('m', svm.LinearSVC())]\n",
    "model = Pipeline(steps=steps)\n",
    "\n",
    "model.fit(x_train,y_train)\n",
    "\n",
    "# Print accuracy\n",
    "print(f1_score(model.predict(x_test), y_test, average= \"weighted\"))\n",
    "\n",
    "plot_confusion_matrix(model, x_test, y_test, xticks_rotation = \"vertical\", normalize = \"true\", values_format = \".2f\")  \n",
    "plt.show()\n"
   ]
  },
  {
   "cell_type": "markdown",
   "metadata": {},
   "source": [
    "# Apply  Naive Bayes"
   ]
  },
  {
   "cell_type": "code",
   "execution_count": null,
   "metadata": {},
   "outputs": [],
   "source": [
    "from sklearn.naive_bayes import GaussianNB\n",
    "\n",
    "steps = [('tsvd', TruncatedSVD(n_components=60)), ('m', GaussianNB())]\n",
    "model = Pipeline(steps=steps)\n",
    "\n",
    "model.fit(x_train,y_train)\n",
    "\n",
    "# Print accuracy\n",
    "print(f1_score(model.predict(x_test), y_test, average= \"weighted\"))\n",
    "\n",
    "plot_confusion_matrix(model, x_test, y_test, xticks_rotation = \"vertical\", normalize = \"true\", values_format = \".2f\")  \n",
    "plt.show()"
   ]
  },
  {
   "cell_type": "markdown",
   "metadata": {},
   "source": [
    "# Apply MLP"
   ]
  },
  {
   "cell_type": "code",
   "execution_count": null,
   "metadata": {},
   "outputs": [],
   "source": [
    "from sklearn.neural_network import MLPClassifier\n",
    "\n",
    "steps = [('svd',FactorAnalysis(n_components=65)), ('m', MLPClassifier(solver='adam', alpha=1e-5, hidden_layer_sizes=(5, 2), random_state=1))]\n",
    "model = Pipeline(steps=steps)\n",
    "\n",
    "model.fit(x_train,y_train)\n",
    "\n",
    "# Print f1\n",
    "print(f1_score(model.predict(x_test), y_test, average= \"weighted\"))\n",
    "\n",
    "plot_confusion_matrix(model, x_test, y_test, xticks_rotation = \"vertical\", normalize = \"true\", values_format = \".2f\")  \n",
    "plt.show()"
   ]
  },
  {
   "cell_type": "markdown",
   "metadata": {},
   "source": [
    "# SDG "
   ]
  },
  {
   "cell_type": "code",
   "execution_count": null,
   "metadata": {},
   "outputs": [],
   "source": [
    "from sklearn.linear_model import SGDClassifier\n",
    "\n",
    "steps = [('svd',TruncatedSVD(n_components=150)), ('m', SGDClassifier(fit_intercept = False, class_weight = \"balanced\", average = True ))]\n",
    "model = Pipeline(steps=steps)\n",
    "\n",
    "model.fit(x_train,y_train)\n",
    "\n",
    "# Print f1\n",
    "print(f1_score(model.predict(x_test), y_test, average=\"weighted\"))\n",
    "\n",
    "plot_confusion_matrix(model, x_test, y_test, xticks_rotation = \"vertical\", normalize = \"true\", values_format = \".2f\")  \n",
    "plt.show()\n"
   ]
  },
  {
   "cell_type": "markdown",
   "metadata": {},
   "source": [
    "# Stacking Classifiers"
   ]
  },
  {
   "cell_type": "markdown",
   "metadata": {},
   "source": [
    "Define the classifiers to be used as part of the ensemble classifier"
   ]
  },
  {
   "cell_type": "code",
   "execution_count": null,
   "metadata": {},
   "outputs": [],
   "source": [
    "logreg = LogisticRegression(n_jobs=-1)\n",
    "dt = DecisionTreeClassifier(criterion = \"entropy\")\n",
    "linearsvc = svm.LinearSVC()\n",
    "sdg = SGDClassifier(fit_intercept = False, class_weight = \"balanced\", average = True )\n",
    "knn = neighbors.KNeighborsClassifier(n,n_jobs=-1)\n"
   ]
  },
  {
   "cell_type": "markdown",
   "metadata": {},
   "source": [
    "Run classification"
   ]
  },
  {
   "cell_type": "code",
   "execution_count": null,
   "metadata": {},
   "outputs": [],
   "source": [
    "from sklearn.ensemble import StackingClassifier\n",
    "from sklearn.linear_model import LogisticRegression\n",
    "\n",
    "estimator_list = [\n",
    "    ('dt',dt),\n",
    "    ('linearsvc',linearsvc),\n",
    "    ('sdg',sdg)\n",
    "   ]\n",
    "\n",
    "stack_model = StackingClassifier(\n",
    "    estimators=estimator_list, final_estimator=LogisticRegression()\n",
    ")\n",
    "\n",
    "stack_model.fit(x_train, y_train)\n",
    "\n",
    "y_test_pred = stack_model.predict(x_test)\n",
    "\n",
    "\n",
    "stack_model_test_f1 = f1_score(y_test, y_test_pred, average='weighted') # Calculate F1-score\n"
   ]
  },
  {
   "cell_type": "markdown",
   "metadata": {},
   "source": [
    "Plot confusion matrix"
   ]
  },
  {
   "cell_type": "code",
   "execution_count": null,
   "metadata": {},
   "outputs": [],
   "source": [
    "print(stack_model_test_f1)\n",
    "\n",
    "plot_confusion_matrix(stack_model, x_test, y_test, xticks_rotation = \"vertical\", normalize = \"true\", values_format = \".2f\")  \n",
    "plt.show()"
   ]
  }
 ],
 "metadata": {
  "interpreter": {
   "hash": "aee8b7b246df8f9039afb4144a1f6fd8d2ca17a180786b69acc140d282b71a49"
  },
  "kernelspec": {
   "display_name": "Python 3.9.6 64-bit",
   "name": "python3"
  },
  "language_info": {
   "codemirror_mode": {
    "name": "ipython",
    "version": 3
   },
   "file_extension": ".py",
   "mimetype": "text/x-python",
   "name": "python",
   "nbconvert_exporter": "python",
   "pygments_lexer": "ipython3",
   "version": "3.9.7"
  },
  "orig_nbformat": 4
 },
 "nbformat": 4,
 "nbformat_minor": 2
}

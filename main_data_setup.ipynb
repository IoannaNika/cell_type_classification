{
 "cells": [
  {
   "cell_type": "markdown",
   "metadata": {},
   "source": [
    "# Write data to pickles\n",
    "\n",
    "First, load the CSV data into memory and save it as pickle files, in order to optimize storage size.\n",
    "Skip this entire section if you have already run this section before.\n",
    "(Check if the bitpacked files already exist in the data folder)"
   ]
  },
  {
   "cell_type": "code",
   "execution_count": 1,
   "metadata": {},
   "outputs": [],
   "source": [
    "cells_data_file_name = \"data/10Xv2_pbmc1.csv\"\n",
    "cells_labels_file_name = \"data/10Xv2_pbmc1Labels.csv\""
   ]
  },
  {
   "cell_type": "markdown",
   "metadata": {},
   "source": [
    "Set the names of the binary files to be written:"
   ]
  },
  {
   "cell_type": "code",
   "execution_count": 2,
   "metadata": {},
   "outputs": [],
   "source": [
    "cell_names_file_name = \"data/cell_names\"\n",
    "gene_names_file_name = \"data/gene_names\"\n",
    "labels_file_name = \"data/labels\"\n",
    "gene_expr_bin_bitpacked_file_name = \"data/gene_expr_bin_bitpacked\"\n"
   ]
  },
  {
   "cell_type": "markdown",
   "metadata": {},
   "source": [
    "Actually load the (.csv) files and write their pickled counterparts. Also, the data is binarized\n",
    "after loading it from .csv file in this step."
   ]
  },
  {
   "cell_type": "code",
   "execution_count": 3,
   "metadata": {},
   "outputs": [],
   "source": [
    "from ctc_utils.functions import write_pickled_cell_data\n",
    "\n",
    "write_pickled_cell_data(\n",
    "    cells_data_file_name,\n",
    "    cells_labels_file_name,\n",
    "    cell_names_file_name,\n",
    "    gene_names_file_name,\n",
    "    labels_file_name,\n",
    "    gene_expr_bin_bitpacked_file_name,\n",
    ")"
   ]
  }
 ],
 "metadata": {
  "interpreter": {
   "hash": "949777d72b0d2535278d3dc13498b2535136f6dfe0678499012e853ee9abcab1"
  },
  "kernelspec": {
   "display_name": "Python 3.9.7 64-bit",
   "name": "python3"
  },
  "language_info": {
   "codemirror_mode": {
    "name": "ipython",
    "version": 3
   },
   "file_extension": ".py",
   "mimetype": "text/x-python",
   "name": "python",
   "nbconvert_exporter": "python",
   "pygments_lexer": "ipython3",
   "version": "3.9.7"
  },
  "orig_nbformat": 4
 },
 "nbformat": 4,
 "nbformat_minor": 2
}
